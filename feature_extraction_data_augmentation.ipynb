{
  "nbformat": 4,
  "nbformat_minor": 0,
  "metadata": {
    "colab": {
      "provenance": [],
      "gpuType": "T4",
      "authorship_tag": "ABX9TyO/BfoC0jBjmJhjM6E/rVZT",
      "include_colab_link": true
    },
    "kernelspec": {
      "name": "python3",
      "display_name": "Python 3"
    },
    "language_info": {
      "name": "python"
    },
    "accelerator": "GPU"
  },
  "cells": [
    {
      "cell_type": "markdown",
      "metadata": {
        "id": "view-in-github",
        "colab_type": "text"
      },
      "source": [
        "<a href=\"https://colab.research.google.com/github/karam-koujan/dog-vs-cat-classification/blob/main/feature_extraction_data_augmentation.ipynb\" target=\"_parent\"><img src=\"https://colab.research.google.com/assets/colab-badge.svg\" alt=\"Open In Colab\"/></a>"
      ]
    },
    {
      "cell_type": "code",
      "execution_count": null,
      "metadata": {
        "id": "Y495smBz-2c2"
      },
      "outputs": [],
      "source": [
        "! pip install -q kaggle\n"
      ]
    },
    {
      "cell_type": "code",
      "source": [
        "from google.colab import files\n",
        "\n",
        "files.upload()\n"
      ],
      "metadata": {
        "colab": {
          "base_uri": "https://localhost:8080/",
          "height": 92
        },
        "id": "ws9Dj6Dz_I6m",
        "outputId": "b1002066-39f4-46c0-d082-094dde151abc"
      },
      "execution_count": null,
      "outputs": [
        {
          "output_type": "display_data",
          "data": {
            "text/plain": [
              "<IPython.core.display.HTML object>"
            ],
            "text/html": [
              "\n",
              "     <input type=\"file\" id=\"files-fb0f76a7-b9b1-438b-bc56-160446c5f4f6\" name=\"files[]\" multiple disabled\n",
              "        style=\"border:none\" />\n",
              "     <output id=\"result-fb0f76a7-b9b1-438b-bc56-160446c5f4f6\">\n",
              "      Upload widget is only available when the cell has been executed in the\n",
              "      current browser session. Please rerun this cell to enable.\n",
              "      </output>\n",
              "      <script>// Copyright 2017 Google LLC\n",
              "//\n",
              "// Licensed under the Apache License, Version 2.0 (the \"License\");\n",
              "// you may not use this file except in compliance with the License.\n",
              "// You may obtain a copy of the License at\n",
              "//\n",
              "//      http://www.apache.org/licenses/LICENSE-2.0\n",
              "//\n",
              "// Unless required by applicable law or agreed to in writing, software\n",
              "// distributed under the License is distributed on an \"AS IS\" BASIS,\n",
              "// WITHOUT WARRANTIES OR CONDITIONS OF ANY KIND, either express or implied.\n",
              "// See the License for the specific language governing permissions and\n",
              "// limitations under the License.\n",
              "\n",
              "/**\n",
              " * @fileoverview Helpers for google.colab Python module.\n",
              " */\n",
              "(function(scope) {\n",
              "function span(text, styleAttributes = {}) {\n",
              "  const element = document.createElement('span');\n",
              "  element.textContent = text;\n",
              "  for (const key of Object.keys(styleAttributes)) {\n",
              "    element.style[key] = styleAttributes[key];\n",
              "  }\n",
              "  return element;\n",
              "}\n",
              "\n",
              "// Max number of bytes which will be uploaded at a time.\n",
              "const MAX_PAYLOAD_SIZE = 100 * 1024;\n",
              "\n",
              "function _uploadFiles(inputId, outputId) {\n",
              "  const steps = uploadFilesStep(inputId, outputId);\n",
              "  const outputElement = document.getElementById(outputId);\n",
              "  // Cache steps on the outputElement to make it available for the next call\n",
              "  // to uploadFilesContinue from Python.\n",
              "  outputElement.steps = steps;\n",
              "\n",
              "  return _uploadFilesContinue(outputId);\n",
              "}\n",
              "\n",
              "// This is roughly an async generator (not supported in the browser yet),\n",
              "// where there are multiple asynchronous steps and the Python side is going\n",
              "// to poll for completion of each step.\n",
              "// This uses a Promise to block the python side on completion of each step,\n",
              "// then passes the result of the previous step as the input to the next step.\n",
              "function _uploadFilesContinue(outputId) {\n",
              "  const outputElement = document.getElementById(outputId);\n",
              "  const steps = outputElement.steps;\n",
              "\n",
              "  const next = steps.next(outputElement.lastPromiseValue);\n",
              "  return Promise.resolve(next.value.promise).then((value) => {\n",
              "    // Cache the last promise value to make it available to the next\n",
              "    // step of the generator.\n",
              "    outputElement.lastPromiseValue = value;\n",
              "    return next.value.response;\n",
              "  });\n",
              "}\n",
              "\n",
              "/**\n",
              " * Generator function which is called between each async step of the upload\n",
              " * process.\n",
              " * @param {string} inputId Element ID of the input file picker element.\n",
              " * @param {string} outputId Element ID of the output display.\n",
              " * @return {!Iterable<!Object>} Iterable of next steps.\n",
              " */\n",
              "function* uploadFilesStep(inputId, outputId) {\n",
              "  const inputElement = document.getElementById(inputId);\n",
              "  inputElement.disabled = false;\n",
              "\n",
              "  const outputElement = document.getElementById(outputId);\n",
              "  outputElement.innerHTML = '';\n",
              "\n",
              "  const pickedPromise = new Promise((resolve) => {\n",
              "    inputElement.addEventListener('change', (e) => {\n",
              "      resolve(e.target.files);\n",
              "    });\n",
              "  });\n",
              "\n",
              "  const cancel = document.createElement('button');\n",
              "  inputElement.parentElement.appendChild(cancel);\n",
              "  cancel.textContent = 'Cancel upload';\n",
              "  const cancelPromise = new Promise((resolve) => {\n",
              "    cancel.onclick = () => {\n",
              "      resolve(null);\n",
              "    };\n",
              "  });\n",
              "\n",
              "  // Wait for the user to pick the files.\n",
              "  const files = yield {\n",
              "    promise: Promise.race([pickedPromise, cancelPromise]),\n",
              "    response: {\n",
              "      action: 'starting',\n",
              "    }\n",
              "  };\n",
              "\n",
              "  cancel.remove();\n",
              "\n",
              "  // Disable the input element since further picks are not allowed.\n",
              "  inputElement.disabled = true;\n",
              "\n",
              "  if (!files) {\n",
              "    return {\n",
              "      response: {\n",
              "        action: 'complete',\n",
              "      }\n",
              "    };\n",
              "  }\n",
              "\n",
              "  for (const file of files) {\n",
              "    const li = document.createElement('li');\n",
              "    li.append(span(file.name, {fontWeight: 'bold'}));\n",
              "    li.append(span(\n",
              "        `(${file.type || 'n/a'}) - ${file.size} bytes, ` +\n",
              "        `last modified: ${\n",
              "            file.lastModifiedDate ? file.lastModifiedDate.toLocaleDateString() :\n",
              "                                    'n/a'} - `));\n",
              "    const percent = span('0% done');\n",
              "    li.appendChild(percent);\n",
              "\n",
              "    outputElement.appendChild(li);\n",
              "\n",
              "    const fileDataPromise = new Promise((resolve) => {\n",
              "      const reader = new FileReader();\n",
              "      reader.onload = (e) => {\n",
              "        resolve(e.target.result);\n",
              "      };\n",
              "      reader.readAsArrayBuffer(file);\n",
              "    });\n",
              "    // Wait for the data to be ready.\n",
              "    let fileData = yield {\n",
              "      promise: fileDataPromise,\n",
              "      response: {\n",
              "        action: 'continue',\n",
              "      }\n",
              "    };\n",
              "\n",
              "    // Use a chunked sending to avoid message size limits. See b/62115660.\n",
              "    let position = 0;\n",
              "    do {\n",
              "      const length = Math.min(fileData.byteLength - position, MAX_PAYLOAD_SIZE);\n",
              "      const chunk = new Uint8Array(fileData, position, length);\n",
              "      position += length;\n",
              "\n",
              "      const base64 = btoa(String.fromCharCode.apply(null, chunk));\n",
              "      yield {\n",
              "        response: {\n",
              "          action: 'append',\n",
              "          file: file.name,\n",
              "          data: base64,\n",
              "        },\n",
              "      };\n",
              "\n",
              "      let percentDone = fileData.byteLength === 0 ?\n",
              "          100 :\n",
              "          Math.round((position / fileData.byteLength) * 100);\n",
              "      percent.textContent = `${percentDone}% done`;\n",
              "\n",
              "    } while (position < fileData.byteLength);\n",
              "  }\n",
              "\n",
              "  // All done.\n",
              "  yield {\n",
              "    response: {\n",
              "      action: 'complete',\n",
              "    }\n",
              "  };\n",
              "}\n",
              "\n",
              "scope.google = scope.google || {};\n",
              "scope.google.colab = scope.google.colab || {};\n",
              "scope.google.colab._files = {\n",
              "  _uploadFiles,\n",
              "  _uploadFilesContinue,\n",
              "};\n",
              "})(self);\n",
              "</script> "
            ]
          },
          "metadata": {}
        },
        {
          "output_type": "stream",
          "name": "stdout",
          "text": [
            "Saving kaggle.json to kaggle.json\n"
          ]
        },
        {
          "output_type": "execute_result",
          "data": {
            "text/plain": [
              "{'kaggle.json': b'{\"username\":\"mlrond\",\"key\":\"fbae98785636cd498845ad590845bb9b\"}'}"
            ]
          },
          "metadata": {},
          "execution_count": 2
        }
      ]
    },
    {
      "cell_type": "code",
      "source": [
        "! mkdir ~/.kaggle"
      ],
      "metadata": {
        "id": "KyEKlNqK_USS"
      },
      "execution_count": null,
      "outputs": []
    },
    {
      "cell_type": "code",
      "source": [
        "! cp kaggle.json ~/.kaggle/\n",
        "\n"
      ],
      "metadata": {
        "id": "aSdjSoYX_cUQ"
      },
      "execution_count": null,
      "outputs": []
    },
    {
      "cell_type": "code",
      "source": [
        "! chmod 600 ~/.kaggle/kaggle.json"
      ],
      "metadata": {
        "id": "jgAUK8rQ_j2G"
      },
      "execution_count": null,
      "outputs": []
    },
    {
      "cell_type": "code",
      "source": [
        " !kaggle datasets list"
      ],
      "metadata": {
        "colab": {
          "base_uri": "https://localhost:8080/"
        },
        "id": "IVOILmBq_k5D",
        "outputId": "7e6900d3-f382-4378-b78d-aeae8414212d"
      },
      "execution_count": null,
      "outputs": [
        {
          "output_type": "stream",
          "name": "stdout",
          "text": [
            "ref                                                                   title                                                size  lastUpdated          downloadCount  voteCount  usabilityRating  \n",
            "--------------------------------------------------------------------  --------------------------------------------------  -----  -------------------  -------------  ---------  ---------------  \n",
            "arnabchaki/data-science-salaries-2023                                 Data Science Salaries 2023 💸                         25KB  2023-04-13 09:55:16          31924        871  1.0              \n",
            "tawfikelmetwally/automobile-dataset                                   Car information dataset                               6KB  2023-05-28 18:26:48           3689        106  0.9411765        \n",
            "fatihb/coffee-quality-data-cqi                                        Coffee Quality Data (CQI May-2023)                   22KB  2023-05-12 13:06:39           5923        126  1.0              \n",
            "mohithsairamreddy/salary-data                                         Salary_Data                                          17KB  2023-05-18 14:05:19           5974        117  0.88235295       \n",
            "mauryansshivam/netflix-ott-revenue-and-subscribers-csv-file           Netflix OTT Revenue and Subscribers (CSV File)        2KB  2023-05-13 17:40:23           2900         65  1.0              \n",
            "omarsobhy14/mcdonalds-revenue                                         🍟💰From Flipping Burgers to Billions: McDonald's      565B  2023-06-01 23:22:49            700         32  1.0              \n",
            "drahulsingh/list-of-best-selling-ps4-games                            List of best-selling PlayStation 4 video games        2KB  2023-06-11 17:36:59            649         25  1.0              \n",
            "zsinghrahulk/rice-pest-and-diseases                                   Rice - Pest and Diseases                            312KB  2023-06-01 08:57:29            746         31  1.0              \n",
            "iammustafatz/diabetes-prediction-dataset                              Diabetes prediction dataset                         734KB  2023-04-08 06:11:45          16689        243  1.0              \n",
            "vstacknocopyright/fruit-and-vegetable-prices                          Fruit and Vegetable Prices                            1KB  2023-06-02 06:17:43           1213         36  0.7647059        \n",
            "bilalwaseer/microsoft-stocks-from-1986-to-2023                        Microsoft Stocks from 1986 to 2023                  120KB  2023-05-16 10:07:28           1117         32  1.0              \n",
            "darshanprabhu09/stock-prices-for                                      Stock prices of Amazon , Microsoft , Google, Apple   85KB  2023-05-16 15:17:16           2216         48  1.0              \n",
            "rajkumarpandey02/2023-world-population-by-country                      World Population by Country                         38KB  2023-06-01 06:10:41           2205         42  1.0              \n",
            "danishjmeo/karachi-housing-prices-2023                                Karachi_Housing_Prices_2023                           1MB  2023-06-01 07:08:13            577         30  0.9411765        \n",
            "adityaramachandran27/world-air-quality-index-by-city-and-coordinates  World Air Quality Index by City and Coordinates     372KB  2023-05-07 07:29:26           2260         48  1.0              \n",
            "dansbecker/melbourne-housing-snapshot                                 Melbourne Housing Snapshot                          451KB  2018-06-05 12:52:24         118080       1286  0.7058824        \n",
            "pushpakhinglaspure/oscar-dataset                                      Oscar Academy Award-winning films 1927-2022         161KB  2023-05-21 18:14:44            942         33  1.0              \n",
            "aryansingh0909/weekly-patent-application-granted                      Patent Application Granted Dataset                    6MB  2023-06-01 19:04:40            430         25  1.0              \n",
            "krishnaraj30/salary-prediction-data-simple-linear-regression          Salary Prediction Data - Simple linear regression    734B  2023-06-05 01:05:41            548         29  1.0              \n",
            "utkarshx27/heart-disease-diagnosis-dataset                            Heart Disease Prediction Dataset                      3KB  2023-05-26 09:33:13           1544         41  1.0              \n"
          ]
        }
      ]
    },
    {
      "cell_type": "code",
      "source": [
        "!kaggle competitions download -c dogs-vs-cats"
      ],
      "metadata": {
        "id": "TqS-s8Ex_lcG",
        "colab": {
          "base_uri": "https://localhost:8080/"
        },
        "outputId": "b2362fa4-0a7d-44b9-8a82-c005642ea159"
      },
      "execution_count": null,
      "outputs": [
        {
          "output_type": "stream",
          "name": "stdout",
          "text": [
            "Downloading dogs-vs-cats.zip to /content\n",
            "100% 812M/812M [00:37<00:00, 24.5MB/s]\n",
            "100% 812M/812M [00:37<00:00, 22.7MB/s]\n"
          ]
        }
      ]
    },
    {
      "cell_type": "code",
      "source": [
        "!unzip -qq dogs-vs-cats\n",
        "!unzip -qq train.zip"
      ],
      "metadata": {
        "id": "60q3rH4_C5di"
      },
      "execution_count": null,
      "outputs": []
    },
    {
      "cell_type": "code",
      "source": [
        "import os, shutil, pathlib"
      ],
      "metadata": {
        "id": "qLjD_G_NxGo9"
      },
      "execution_count": null,
      "outputs": []
    },
    {
      "cell_type": "code",
      "source": [
        "original_dir = pathlib.Path(\"train\")\n",
        "new_base_dir = pathlib.Path(\"dogs_vs_cats-small\")\n"
      ],
      "metadata": {
        "id": "4z2QG6d5xQdN"
      },
      "execution_count": null,
      "outputs": []
    },
    {
      "cell_type": "code",
      "source": [
        "def make_subset(subset_name,start_idx,end_idx):\n",
        "    for category in (\"cat\",\"dog\"):\n",
        "       dir = new_base_dir / subset_name / category\n",
        "       os.makedirs(dir)\n",
        "       fnames = [f\"{category}.{i}.jpg\" for i in range(start_idx,end_idx)]\n",
        "       for fname in fnames :\n",
        "           shutil.copyfile(src=original_dir/fname,dst=dir/fname)\n",
        "make_subset(\"train\",0,1000)\n",
        "make_subset(\"validation\",1000,1500)\n",
        "make_subset(\"test\",1500,2500)"
      ],
      "metadata": {
        "id": "jJaNBNi5zz4U"
      },
      "execution_count": null,
      "outputs": []
    },
    {
      "cell_type": "code",
      "source": [
        "from tensorflow import keras\n",
        "from tensorflow.keras import layers"
      ],
      "metadata": {
        "id": "qZ5ynHTU3WxZ"
      },
      "execution_count": null,
      "outputs": []
    },
    {
      "cell_type": "code",
      "source": [
        "from tensorflow.keras.utils import image_dataset_from_directory\n",
        "train_dataset = image_dataset_from_directory(new_base_dir/\"train\",image_size=(180,180),batch_size=32)\n",
        "validation_dataset = image_dataset_from_directory(new_base_dir/\"validation\",image_size=(180,180),batch_size=32)\n",
        "test_dataset = image_dataset_from_directory(new_base_dir/\"test\",image_size=(180,180),batch_size=32)\n"
      ],
      "metadata": {
        "colab": {
          "base_uri": "https://localhost:8080/"
        },
        "id": "a6uUx_HY9bHw",
        "outputId": "46b238cc-9c3b-4c04-d432-29d2b0343c44"
      },
      "execution_count": null,
      "outputs": [
        {
          "output_type": "stream",
          "name": "stdout",
          "text": [
            "Found 2000 files belonging to 2 classes.\n",
            "Found 1000 files belonging to 2 classes.\n",
            "Found 2000 files belonging to 2 classes.\n"
          ]
        }
      ]
    },
    {
      "cell_type": "code",
      "source": [
        "for data_batch, label_batch in train_dataset :\n",
        "   print(\"data batch\",data_batch.shape)\n",
        "   print(\"label batch\",label_batch.shape)\n",
        "   break"
      ],
      "metadata": {
        "colab": {
          "base_uri": "https://localhost:8080/"
        },
        "id": "qM8qCrpq_fEL",
        "outputId": "4f145bd2-f0cc-401e-c27a-ec34e53b7aa7"
      },
      "execution_count": null,
      "outputs": [
        {
          "output_type": "stream",
          "name": "stdout",
          "text": [
            "data batch (32, 180, 180, 3)\n",
            "label batch (32,)\n"
          ]
        }
      ]
    },
    {
      "cell_type": "code",
      "source": [
        "conv_base = keras.applications.vgg16.VGG16(\n",
        "    weights = \"imagenet\",\n",
        "    include_top = False,\n",
        ")\n",
        "conv_base.trainable = False"
      ],
      "metadata": {
        "id": "Lp6r5bbgHyAV",
        "colab": {
          "base_uri": "https://localhost:8080/"
        },
        "outputId": "a3b14bf7-0d1c-452e-83ac-8faecd6dc2d1"
      },
      "execution_count": null,
      "outputs": [
        {
          "output_type": "stream",
          "name": "stdout",
          "text": [
            "Downloading data from https://storage.googleapis.com/tensorflow/keras-applications/vgg16/vgg16_weights_tf_dim_ordering_tf_kernels_notop.h5\n",
            "58889256/58889256 [==============================] - 4s 0us/step\n"
          ]
        }
      ]
    },
    {
      "cell_type": "code",
      "source": [
        "conv_base.trainable_weights"
      ],
      "metadata": {
        "colab": {
          "base_uri": "https://localhost:8080/"
        },
        "id": "y9Z1bxTbPaRA",
        "outputId": "9c8f78f4-85c1-4a2c-a8a6-623d783550b8"
      },
      "execution_count": null,
      "outputs": [
        {
          "output_type": "execute_result",
          "data": {
            "text/plain": [
              "[]"
            ]
          },
          "metadata": {},
          "execution_count": 23
        }
      ]
    },
    {
      "cell_type": "markdown",
      "source": [
        "\n",
        "\n",
        "---\n",
        "\n",
        "\n",
        "\n"
      ],
      "metadata": {
        "id": "qE2O8rVDW-N1"
      }
    },
    {
      "cell_type": "code",
      "source": [
        "data_augmentation = keras.Sequential(\n",
        "    [\n",
        "        layers.RandomFlip(\"horizontal\"),\n",
        "        layers.RandomRotation(0.1),\n",
        "        layers.RandomZoom(0.2)\n",
        "    ]\n",
        ")"
      ],
      "metadata": {
        "id": "j-lnlv3FW1Xp"
      },
      "execution_count": null,
      "outputs": []
    },
    {
      "cell_type": "code",
      "source": [
        "\n",
        "inputs = keras.Input(shape=(180,180,3))\n",
        "x = data_augmentation(inputs)\n",
        "x - keras.applications.vgg16.preprocess_input(x)\n",
        "x = conv_base(x)\n",
        "x = layers.Flatten()(x)\n",
        "x = layers.Dense(256)(x)\n",
        "x = layers.Dropout(0.5)(x)\n",
        "outputs = layers.Dense(1,activation=\"sigmoid\")(x)\n",
        "model = keras.Model(inputs,outputs)\n",
        "model.compile(loss=\"binary_crossentropy\",optimizer=\"rmsprop\",metrics=[\"accuracy\"])\n",
        "callbacks = [\n",
        "    keras.callbacks.ModelCheckpoint(\n",
        "        filepath= \"feature_extraction_with_data_augmentation.keras\",\n",
        "        save_best_only=True,\n",
        "        monitor= \"val_loss\"\n",
        "    )\n",
        "]\n",
        "history = model.fit(train_dataset,epochs=50,validation_data=validation_dataset,callbacks=callbacks)"
      ],
      "metadata": {
        "id": "TVJZUWh-XYu8",
        "colab": {
          "base_uri": "https://localhost:8080/"
        },
        "outputId": "dfd1831f-b0fd-440d-8626-c4bf41c0a6fb"
      },
      "execution_count": null,
      "outputs": [
        {
          "output_type": "stream",
          "name": "stdout",
          "text": [
            "Epoch 1/50\n",
            "63/63 [==============================] - 22s 224ms/step - loss: 33.6210 - accuracy: 0.8420 - val_loss: 5.2295 - val_accuracy: 0.9510\n",
            "Epoch 2/50\n",
            "63/63 [==============================] - 10s 147ms/step - loss: 13.1466 - accuracy: 0.9105 - val_loss: 18.3156 - val_accuracy: 0.9090\n",
            "Epoch 3/50\n",
            "63/63 [==============================] - 10s 153ms/step - loss: 11.5859 - accuracy: 0.9230 - val_loss: 6.9428 - val_accuracy: 0.9530\n",
            "Epoch 4/50\n",
            "63/63 [==============================] - 10s 157ms/step - loss: 8.5317 - accuracy: 0.9240 - val_loss: 7.3458 - val_accuracy: 0.9530\n",
            "Epoch 5/50\n",
            "63/63 [==============================] - 10s 160ms/step - loss: 6.3159 - accuracy: 0.9395 - val_loss: 9.5808 - val_accuracy: 0.9390\n",
            "Epoch 6/50\n",
            "63/63 [==============================] - 10s 153ms/step - loss: 6.1119 - accuracy: 0.9430 - val_loss: 6.5883 - val_accuracy: 0.9520\n",
            "Epoch 7/50\n",
            "63/63 [==============================] - 10s 150ms/step - loss: 6.0235 - accuracy: 0.9465 - val_loss: 9.0737 - val_accuracy: 0.9440\n",
            "Epoch 8/50\n",
            "63/63 [==============================] - 10s 149ms/step - loss: 5.3029 - accuracy: 0.9430 - val_loss: 6.1466 - val_accuracy: 0.9510\n",
            "Epoch 9/50\n",
            "63/63 [==============================] - 10s 150ms/step - loss: 5.1716 - accuracy: 0.9360 - val_loss: 11.9223 - val_accuracy: 0.9270\n",
            "Epoch 10/50\n",
            "63/63 [==============================] - 10s 150ms/step - loss: 4.1082 - accuracy: 0.9540 - val_loss: 5.9679 - val_accuracy: 0.9490\n",
            "Epoch 11/50\n",
            "63/63 [==============================] - 10s 154ms/step - loss: 3.5679 - accuracy: 0.9510 - val_loss: 8.1084 - val_accuracy: 0.9370\n",
            "Epoch 12/50\n",
            "63/63 [==============================] - 10s 155ms/step - loss: 2.5858 - accuracy: 0.9605 - val_loss: 4.0948 - val_accuracy: 0.9500\n",
            "Epoch 13/50\n",
            "63/63 [==============================] - 10s 155ms/step - loss: 2.6937 - accuracy: 0.9530 - val_loss: 3.6953 - val_accuracy: 0.9560\n",
            "Epoch 14/50\n",
            "63/63 [==============================] - 10s 152ms/step - loss: 2.9193 - accuracy: 0.9515 - val_loss: 4.1805 - val_accuracy: 0.9510\n",
            "Epoch 15/50\n",
            "63/63 [==============================] - 10s 154ms/step - loss: 2.0185 - accuracy: 0.9595 - val_loss: 3.1619 - val_accuracy: 0.9570\n",
            "Epoch 16/50\n",
            "63/63 [==============================] - 10s 154ms/step - loss: 1.9480 - accuracy: 0.9630 - val_loss: 3.3900 - val_accuracy: 0.9530\n",
            "Epoch 17/50\n",
            "63/63 [==============================] - 10s 154ms/step - loss: 1.6345 - accuracy: 0.9615 - val_loss: 2.3527 - val_accuracy: 0.9560\n",
            "Epoch 18/50\n",
            "63/63 [==============================] - 10s 152ms/step - loss: 1.4471 - accuracy: 0.9610 - val_loss: 1.8511 - val_accuracy: 0.9540\n",
            "Epoch 19/50\n",
            "63/63 [==============================] - 10s 150ms/step - loss: 1.1570 - accuracy: 0.9595 - val_loss: 3.4766 - val_accuracy: 0.9450\n",
            "Epoch 20/50\n",
            "63/63 [==============================] - 10s 153ms/step - loss: 0.9239 - accuracy: 0.9645 - val_loss: 1.7048 - val_accuracy: 0.9550\n",
            "Epoch 21/50\n",
            "63/63 [==============================] - 10s 154ms/step - loss: 0.9769 - accuracy: 0.9610 - val_loss: 1.8850 - val_accuracy: 0.9500\n",
            "Epoch 22/50\n",
            "63/63 [==============================] - 10s 151ms/step - loss: 0.7376 - accuracy: 0.9625 - val_loss: 1.9612 - val_accuracy: 0.9530\n",
            "Epoch 23/50\n",
            "63/63 [==============================] - 11s 180ms/step - loss: 0.6183 - accuracy: 0.9680 - val_loss: 2.2735 - val_accuracy: 0.9530\n",
            "Epoch 24/50\n",
            "63/63 [==============================] - 10s 152ms/step - loss: 0.6635 - accuracy: 0.9640 - val_loss: 1.5151 - val_accuracy: 0.9520\n",
            "Epoch 25/50\n",
            "63/63 [==============================] - 10s 153ms/step - loss: 0.6254 - accuracy: 0.9690 - val_loss: 1.8759 - val_accuracy: 0.9500\n",
            "Epoch 26/50\n",
            "63/63 [==============================] - 10s 163ms/step - loss: 0.8647 - accuracy: 0.9685 - val_loss: 1.2599 - val_accuracy: 0.9580\n",
            "Epoch 27/50\n",
            "63/63 [==============================] - 10s 154ms/step - loss: 0.6728 - accuracy: 0.9690 - val_loss: 1.5509 - val_accuracy: 0.9520\n",
            "Epoch 28/50\n",
            "63/63 [==============================] - 10s 152ms/step - loss: 0.7070 - accuracy: 0.9630 - val_loss: 1.4251 - val_accuracy: 0.9530\n",
            "Epoch 29/50\n",
            "63/63 [==============================] - 10s 150ms/step - loss: 0.7794 - accuracy: 0.9670 - val_loss: 1.3319 - val_accuracy: 0.9620\n",
            "Epoch 30/50\n",
            "63/63 [==============================] - 10s 149ms/step - loss: 0.6114 - accuracy: 0.9650 - val_loss: 1.4294 - val_accuracy: 0.9570\n",
            "Epoch 31/50\n",
            "63/63 [==============================] - 10s 149ms/step - loss: 0.8531 - accuracy: 0.9570 - val_loss: 1.2703 - val_accuracy: 0.9560\n",
            "Epoch 32/50\n",
            "63/63 [==============================] - 10s 149ms/step - loss: 0.5012 - accuracy: 0.9745 - val_loss: 1.4253 - val_accuracy: 0.9560\n",
            "Epoch 33/50\n",
            "63/63 [==============================] - 12s 180ms/step - loss: 0.7244 - accuracy: 0.9665 - val_loss: 1.3895 - val_accuracy: 0.9570\n",
            "Epoch 34/50\n",
            "63/63 [==============================] - 12s 180ms/step - loss: 0.7323 - accuracy: 0.9655 - val_loss: 1.3009 - val_accuracy: 0.9580\n",
            "Epoch 35/50\n",
            "63/63 [==============================] - 12s 182ms/step - loss: 0.7891 - accuracy: 0.9635 - val_loss: 1.4615 - val_accuracy: 0.9540\n",
            "Epoch 36/50\n",
            "63/63 [==============================] - 10s 149ms/step - loss: 0.6670 - accuracy: 0.9670 - val_loss: 1.3388 - val_accuracy: 0.9550\n",
            "Epoch 37/50\n",
            "63/63 [==============================] - 12s 182ms/step - loss: 0.5821 - accuracy: 0.9705 - val_loss: 1.8124 - val_accuracy: 0.9540\n",
            "Epoch 38/50\n",
            "63/63 [==============================] - 10s 155ms/step - loss: 0.5755 - accuracy: 0.9710 - val_loss: 1.3724 - val_accuracy: 0.9620\n",
            "Epoch 39/50\n",
            "63/63 [==============================] - 10s 156ms/step - loss: 0.4133 - accuracy: 0.9790 - val_loss: 1.7564 - val_accuracy: 0.9550\n",
            "Epoch 40/50\n",
            "63/63 [==============================] - 10s 151ms/step - loss: 0.4784 - accuracy: 0.9755 - val_loss: 1.9764 - val_accuracy: 0.9590\n",
            "Epoch 41/50\n",
            "63/63 [==============================] - 10s 150ms/step - loss: 0.6350 - accuracy: 0.9740 - val_loss: 1.8022 - val_accuracy: 0.9540\n",
            "Epoch 42/50\n",
            "63/63 [==============================] - 10s 150ms/step - loss: 0.5525 - accuracy: 0.9760 - val_loss: 2.1442 - val_accuracy: 0.9510\n",
            "Epoch 43/50\n",
            "63/63 [==============================] - 10s 151ms/step - loss: 0.6953 - accuracy: 0.9675 - val_loss: 1.5167 - val_accuracy: 0.9550\n",
            "Epoch 44/50\n",
            "63/63 [==============================] - 10s 149ms/step - loss: 0.5786 - accuracy: 0.9750 - val_loss: 1.9279 - val_accuracy: 0.9550\n",
            "Epoch 45/50\n",
            "63/63 [==============================] - 11s 180ms/step - loss: 0.5533 - accuracy: 0.9710 - val_loss: 2.1768 - val_accuracy: 0.9500\n",
            "Epoch 46/50\n",
            "63/63 [==============================] - 12s 180ms/step - loss: 0.6686 - accuracy: 0.9720 - val_loss: 2.1177 - val_accuracy: 0.9540\n",
            "Epoch 47/50\n",
            "63/63 [==============================] - 12s 180ms/step - loss: 0.5338 - accuracy: 0.9755 - val_loss: 2.1021 - val_accuracy: 0.9560\n",
            "Epoch 48/50\n",
            "63/63 [==============================] - 10s 150ms/step - loss: 0.7454 - accuracy: 0.9700 - val_loss: 1.7945 - val_accuracy: 0.9570\n",
            "Epoch 49/50\n",
            "63/63 [==============================] - 10s 151ms/step - loss: 0.6846 - accuracy: 0.9690 - val_loss: 1.6978 - val_accuracy: 0.9570\n",
            "Epoch 50/50\n",
            "63/63 [==============================] - 10s 152ms/step - loss: 0.5348 - accuracy: 0.9775 - val_loss: 1.8117 - val_accuracy: 0.9590\n"
          ]
        }
      ]
    },
    {
      "cell_type": "code",
      "source": [
        "test_model = keras.models.load_model(\"feature_extraction_with_data_augmentation.keras\")\n",
        "test_loss,test_acc = test_model.evaluate(test_dataset)\n",
        "print(f\"Test accuracy: {test_acc: .3f}, Test loss: {test_loss}\")"
      ],
      "metadata": {
        "colab": {
          "base_uri": "https://localhost:8080/"
        },
        "id": "exLv0tXXa3GF",
        "outputId": "d37124b0-383a-4aa3-c392-f6516e102140"
      },
      "execution_count": null,
      "outputs": [
        {
          "output_type": "stream",
          "name": "stdout",
          "text": [
            "63/63 [==============================] - 6s 94ms/step - loss: 1.1969 - accuracy: 0.9660\n",
            "Test accuracy:  0.966, Test loss: 1.1968647241592407\n"
          ]
        }
      ]
    },
    {
      "cell_type": "code",
      "source": [
        "import matplotlib.pyplot as plt\n",
        "accuracy = history.history[\"accuracy\"]\n",
        "val_accuracy = history.history[\"val_accuracy\"]\n",
        "loss = history.history[\"loss\"]\n",
        "val_loss = history.history[\"val_loss\"]\n",
        "epochs = range(1,len(accuracy)+1)\n",
        "plt.plot(epochs,accuracy,\"bo\",label=\"Training Accuracy\")\n",
        "plt.plot(epochs,val_accuracy,\"b\",label=\"Validation Accuracy\")\n",
        "plt.title(\"Training and Validation accuracy\")\n",
        "plt.legend()\n",
        "plt.figure()\n",
        "plt.plot(epochs,loss,\"bo\",label=\"Training loss\")\n",
        "plt.plot(epochs,val_loss,\"b\",label=\"Validation loss\")\n",
        "plt.title(\"Training and Validation loss\")\n",
        "plt.legend()\n",
        "plt.show()\n"
      ],
      "metadata": {
        "colab": {
          "base_uri": "https://localhost:8080/",
          "height": 887
        },
        "id": "WncAbIRyE1D6",
        "outputId": "a5c20b1b-3b32-4b41-9bbe-7020c6f6fcc0"
      },
      "execution_count": null,
      "outputs": [
        {
          "output_type": "display_data",
          "data": {
            "text/plain": [
              "<Figure size 640x480 with 1 Axes>"
            ],
            "image/png": "[encoded data removed]"
          },
          "metadata": {}
        },
        {
          "output_type": "display_data",
          "data": {
            "text/plain": [
              "<Figure size 640x480 with 1 Axes>"
            ],
            "image/png": "[encoded data removed]"
          },
          "metadata": {}
        }
      ]
    }
  ]
}