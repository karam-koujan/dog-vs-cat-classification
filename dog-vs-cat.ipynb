{
  "nbformat": 4,
  "nbformat_minor": 0,
  "metadata": {
    "colab": {
      "provenance": [],
      "gpuType": "T4",
      "authorship_tag": "ABX9TyNyx5xv4AOGl4CgmxXLB70B",
      "include_colab_link": true
    },
    "kernelspec": {
      "name": "python3",
      "display_name": "Python 3"
    },
    "language_info": {
      "name": "python"
    },
    "accelerator": "GPU"
  },
  "cells": [
    {
      "cell_type": "markdown",
      "metadata": {
        "id": "view-in-github",
        "colab_type": "text"
      },
      "source": [
        "<a href=\"https://colab.research.google.com/github/karam-koujan/dog-vs-cat-classification/blob/main/dog-vs-cat.ipynb\" target=\"_parent\"><img src=\"https://colab.research.google.com/assets/colab-badge.svg\" alt=\"Open In Colab\"/></a>"
      ]
    },
    {
      "cell_type": "code",
      "execution_count": 2,
      "metadata": {
        "id": "Y495smBz-2c2"
      },
      "outputs": [],
      "source": [
        "! pip install -q kaggle\n"
      ]
    },
    {
      "cell_type": "code",
      "source": [
        "from google.colab import files\n",
        "\n",
        "files.upload()\n"
      ],
      "metadata": {
        "colab": {
          "base_uri": "https://localhost:8080/",
          "height": 92
        },
        "id": "ws9Dj6Dz_I6m",
        "outputId": "ab736075-9200-445a-bde0-004d88645edd"
      },
      "execution_count": 3,
      "outputs": [
        {
          "output_type": "display_data",
          "data": {
            "text/plain": [
              "<IPython.core.display.HTML object>"
            ],
            "text/html": [
              "\n",
              "     <input type=\"file\" id=\"files-c61af39b-8029-4bb2-87af-c7fb4a118ed4\" name=\"files[]\" multiple disabled\n",
              "        style=\"border:none\" />\n",
              "     <output id=\"result-c61af39b-8029-4bb2-87af-c7fb4a118ed4\">\n",
              "      Upload widget is only available when the cell has been executed in the\n",
              "      current browser session. Please rerun this cell to enable.\n",
              "      </output>\n",
              "      <script>// Copyright 2017 Google LLC\n",
              "//\n",
              "// Licensed under the Apache License, Version 2.0 (the \"License\");\n",
              "// you may not use this file except in compliance with the License.\n",
              "// You may obtain a copy of the License at\n",
              "//\n",
              "//      http://www.apache.org/licenses/LICENSE-2.0\n",
              "//\n",
              "// Unless required by applicable law or agreed to in writing, software\n",
              "// distributed under the License is distributed on an \"AS IS\" BASIS,\n",
              "// WITHOUT WARRANTIES OR CONDITIONS OF ANY KIND, either express or implied.\n",
              "// See the License for the specific language governing permissions and\n",
              "// limitations under the License.\n",
              "\n",
              "/**\n",
              " * @fileoverview Helpers for google.colab Python module.\n",
              " */\n",
              "(function(scope) {\n",
              "function span(text, styleAttributes = {}) {\n",
              "  const element = document.createElement('span');\n",
              "  element.textContent = text;\n",
              "  for (const key of Object.keys(styleAttributes)) {\n",
              "    element.style[key] = styleAttributes[key];\n",
              "  }\n",
              "  return element;\n",
              "}\n",
              "\n",
              "// Max number of bytes which will be uploaded at a time.\n",
              "const MAX_PAYLOAD_SIZE = 100 * 1024;\n",
              "\n",
              "function _uploadFiles(inputId, outputId) {\n",
              "  const steps = uploadFilesStep(inputId, outputId);\n",
              "  const outputElement = document.getElementById(outputId);\n",
              "  // Cache steps on the outputElement to make it available for the next call\n",
              "  // to uploadFilesContinue from Python.\n",
              "  outputElement.steps = steps;\n",
              "\n",
              "  return _uploadFilesContinue(outputId);\n",
              "}\n",
              "\n",
              "// This is roughly an async generator (not supported in the browser yet),\n",
              "// where there are multiple asynchronous steps and the Python side is going\n",
              "// to poll for completion of each step.\n",
              "// This uses a Promise to block the python side on completion of each step,\n",
              "// then passes the result of the previous step as the input to the next step.\n",
              "function _uploadFilesContinue(outputId) {\n",
              "  const outputElement = document.getElementById(outputId);\n",
              "  const steps = outputElement.steps;\n",
              "\n",
              "  const next = steps.next(outputElement.lastPromiseValue);\n",
              "  return Promise.resolve(next.value.promise).then((value) => {\n",
              "    // Cache the last promise value to make it available to the next\n",
              "    // step of the generator.\n",
              "    outputElement.lastPromiseValue = value;\n",
              "    return next.value.response;\n",
              "  });\n",
              "}\n",
              "\n",
              "/**\n",
              " * Generator function which is called between each async step of the upload\n",
              " * process.\n",
              " * @param {string} inputId Element ID of the input file picker element.\n",
              " * @param {string} outputId Element ID of the output display.\n",
              " * @return {!Iterable<!Object>} Iterable of next steps.\n",
              " */\n",
              "function* uploadFilesStep(inputId, outputId) {\n",
              "  const inputElement = document.getElementById(inputId);\n",
              "  inputElement.disabled = false;\n",
              "\n",
              "  const outputElement = document.getElementById(outputId);\n",
              "  outputElement.innerHTML = '';\n",
              "\n",
              "  const pickedPromise = new Promise((resolve) => {\n",
              "    inputElement.addEventListener('change', (e) => {\n",
              "      resolve(e.target.files);\n",
              "    });\n",
              "  });\n",
              "\n",
              "  const cancel = document.createElement('button');\n",
              "  inputElement.parentElement.appendChild(cancel);\n",
              "  cancel.textContent = 'Cancel upload';\n",
              "  const cancelPromise = new Promise((resolve) => {\n",
              "    cancel.onclick = () => {\n",
              "      resolve(null);\n",
              "    };\n",
              "  });\n",
              "\n",
              "  // Wait for the user to pick the files.\n",
              "  const files = yield {\n",
              "    promise: Promise.race([pickedPromise, cancelPromise]),\n",
              "    response: {\n",
              "      action: 'starting',\n",
              "    }\n",
              "  };\n",
              "\n",
              "  cancel.remove();\n",
              "\n",
              "  // Disable the input element since further picks are not allowed.\n",
              "  inputElement.disabled = true;\n",
              "\n",
              "  if (!files) {\n",
              "    return {\n",
              "      response: {\n",
              "        action: 'complete',\n",
              "      }\n",
              "    };\n",
              "  }\n",
              "\n",
              "  for (const file of files) {\n",
              "    const li = document.createElement('li');\n",
              "    li.append(span(file.name, {fontWeight: 'bold'}));\n",
              "    li.append(span(\n",
              "        `(${file.type || 'n/a'}) - ${file.size} bytes, ` +\n",
              "        `last modified: ${\n",
              "            file.lastModifiedDate ? file.lastModifiedDate.toLocaleDateString() :\n",
              "                                    'n/a'} - `));\n",
              "    const percent = span('0% done');\n",
              "    li.appendChild(percent);\n",
              "\n",
              "    outputElement.appendChild(li);\n",
              "\n",
              "    const fileDataPromise = new Promise((resolve) => {\n",
              "      const reader = new FileReader();\n",
              "      reader.onload = (e) => {\n",
              "        resolve(e.target.result);\n",
              "      };\n",
              "      reader.readAsArrayBuffer(file);\n",
              "    });\n",
              "    // Wait for the data to be ready.\n",
              "    let fileData = yield {\n",
              "      promise: fileDataPromise,\n",
              "      response: {\n",
              "        action: 'continue',\n",
              "      }\n",
              "    };\n",
              "\n",
              "    // Use a chunked sending to avoid message size limits. See b/62115660.\n",
              "    let position = 0;\n",
              "    do {\n",
              "      const length = Math.min(fileData.byteLength - position, MAX_PAYLOAD_SIZE);\n",
              "      const chunk = new Uint8Array(fileData, position, length);\n",
              "      position += length;\n",
              "\n",
              "      const base64 = btoa(String.fromCharCode.apply(null, chunk));\n",
              "      yield {\n",
              "        response: {\n",
              "          action: 'append',\n",
              "          file: file.name,\n",
              "          data: base64,\n",
              "        },\n",
              "      };\n",
              "\n",
              "      let percentDone = fileData.byteLength === 0 ?\n",
              "          100 :\n",
              "          Math.round((position / fileData.byteLength) * 100);\n",
              "      percent.textContent = `${percentDone}% done`;\n",
              "\n",
              "    } while (position < fileData.byteLength);\n",
              "  }\n",
              "\n",
              "  // All done.\n",
              "  yield {\n",
              "    response: {\n",
              "      action: 'complete',\n",
              "    }\n",
              "  };\n",
              "}\n",
              "\n",
              "scope.google = scope.google || {};\n",
              "scope.google.colab = scope.google.colab || {};\n",
              "scope.google.colab._files = {\n",
              "  _uploadFiles,\n",
              "  _uploadFilesContinue,\n",
              "};\n",
              "})(self);\n",
              "</script> "
            ]
          },
          "metadata": {}
        },
        {
          "output_type": "stream",
          "name": "stdout",
          "text": [
            "Saving kaggle.json to kaggle.json\n"
          ]
        },
        {
          "output_type": "execute_result",
          "data": {
            "text/plain": [
              "{'kaggle.json': b'{\"username\":\"mlrond\",\"key\":\"fbae98785636cd498845ad590845bb9b\"}'}"
            ]
          },
          "metadata": {},
          "execution_count": 3
        }
      ]
    },
    {
      "cell_type": "code",
      "source": [
        "! mkdir ~/.kaggle"
      ],
      "metadata": {
        "id": "KyEKlNqK_USS"
      },
      "execution_count": 4,
      "outputs": []
    },
    {
      "cell_type": "code",
      "source": [
        "! cp kaggle.json ~/.kaggle/\n",
        "\n"
      ],
      "metadata": {
        "id": "aSdjSoYX_cUQ"
      },
      "execution_count": 5,
      "outputs": []
    },
    {
      "cell_type": "code",
      "source": [
        "! chmod 600 ~/.kaggle/kaggle.json"
      ],
      "metadata": {
        "id": "jgAUK8rQ_j2G"
      },
      "execution_count": 6,
      "outputs": []
    },
    {
      "cell_type": "code",
      "source": [
        " !kaggle datasets list"
      ],
      "metadata": {
        "colab": {
          "base_uri": "https://localhost:8080/"
        },
        "id": "IVOILmBq_k5D",
        "outputId": "4283ef93-2c15-424e-bfa3-1cd31032aeb0"
      },
      "execution_count": 7,
      "outputs": [
        {
          "output_type": "stream",
          "name": "stdout",
          "text": [
            "ref                                                                   title                                                size  lastUpdated          downloadCount  voteCount  usabilityRating  \n",
            "--------------------------------------------------------------------  --------------------------------------------------  -----  -------------------  -------------  ---------  ---------------  \n",
            "arnabchaki/data-science-salaries-2023                                 Data Science Salaries 2023 💸                         25KB  2023-04-13 09:55:16          28651        804  1.0              \n",
            "tawfikelmetwally/automobile-dataset                                   Car information dataset                               6KB  2023-05-28 18:26:48           2452         70  0.9411765        \n",
            "fatihb/coffee-quality-data-cqi                                        Coffee Quality Data (CQI May-2023)                   22KB  2023-05-12 13:06:39           4871        100  1.0              \n",
            "mohithsairamreddy/salary-data                                         Salary_Data                                          17KB  2023-05-18 14:05:19           4578         93  0.88235295       \n",
            "mauryansshivam/netflix-ott-revenue-and-subscribers-csv-file           Netflix OTT Revenue and Subscribers (CSV File)        2KB  2023-05-13 17:40:23           2394         56  1.0              \n",
            "omarsobhy14/mcdonalds-revenue                                         🍟💰From Flipping Burgers to Billions: McDonald's      565B  2023-06-01 23:22:49            576         30  1.0              \n",
            "zsinghrahulk/rice-pest-and-diseases                                   Rice - Pest and Diseases                            312KB  2023-06-01 08:57:29            522         27  1.0              \n",
            "iammustafatz/diabetes-prediction-dataset                              Diabetes prediction dataset                         734KB  2023-04-08 06:11:45          15001        218  1.0              \n",
            "vstacknocopyright/fruit-and-vegetable-prices                          Fruit and Vegetable Prices                            1KB  2023-06-02 06:17:43            831         30  0.7647059        \n",
            "bilalwaseer/microsoft-stocks-from-1986-to-2023                        Microsoft Stocks from 1986 to 2023                  120KB  2023-05-16 10:07:28            923         27  1.0              \n",
            "darshanprabhu09/stock-prices-for                                      Stock prices of Amazon , Microsoft , Google, Apple   85KB  2023-05-16 15:17:16           1961         46  1.0              \n",
            "rajkumarpandey02/2023-world-population-by-country                      World Population by Country                         38KB  2023-06-01 06:10:41           1543         34  1.0              \n",
            "danishjmeo/karachi-housing-prices-2023                                Karachi_Housing_Prices_2023                           1MB  2023-06-01 07:08:13            467         27  0.9411765        \n",
            "adityaramachandran27/world-air-quality-index-by-city-and-coordinates  World Air Quality Index by City and Coordinates     372KB  2023-05-07 07:29:26           1877         43  1.0              \n",
            "dansbecker/melbourne-housing-snapshot                                 Melbourne Housing Snapshot                          451KB  2018-06-05 12:52:24         117487       1279  0.7058824        \n",
            "pushpakhinglaspure/oscar-dataset                                      Oscar Academy Award-winning films 1927-2022         161KB  2023-05-21 18:14:44            799         31  1.0              \n",
            "aryansingh0909/weekly-patent-application-granted                      Patent Application Granted Dataset                    6MB  2023-06-01 19:04:40            316         24  1.0              \n",
            "utkarshx27/heart-disease-diagnosis-dataset                            Heart Disease Prediction Dataset                      3KB  2023-05-26 09:33:13           1196         35  1.0              \n",
            "shreyanshverma27/water-quality-testing                                Water Quality Testing                                 4KB  2023-05-16 05:22:17           1276         33  0.9411765        \n",
            "desalegngeb/conversion-predictors-of-cis-to-multiple-sclerosis        Multiple Sclerosis Disease                            3KB  2023-05-18 09:41:09            940         32  1.0              \n"
          ]
        }
      ]
    },
    {
      "cell_type": "code",
      "source": [
        "!kaggle competitions download -c dogs-vs-cats"
      ],
      "metadata": {
        "id": "TqS-s8Ex_lcG",
        "colab": {
          "base_uri": "https://localhost:8080/"
        },
        "outputId": "9d1be9ce-2544-494b-a6ea-854bf3ac886f"
      },
      "execution_count": 8,
      "outputs": [
        {
          "output_type": "stream",
          "name": "stdout",
          "text": [
            "Downloading dogs-vs-cats.zip to /content\n",
            "100% 812M/812M [00:40<00:00, 22.3MB/s]\n",
            "100% 812M/812M [00:40<00:00, 20.8MB/s]\n"
          ]
        }
      ]
    },
    {
      "cell_type": "code",
      "source": [
        "!unzip -qq train.zip"
      ],
      "metadata": {
        "id": "60q3rH4_C5di"
      },
      "execution_count": 17,
      "outputs": []
    },
    {
      "cell_type": "code",
      "source": [
        "import os, shutil, pathlib"
      ],
      "metadata": {
        "id": "qLjD_G_NxGo9"
      },
      "execution_count": 10,
      "outputs": []
    },
    {
      "cell_type": "code",
      "source": [
        "original_dir = pathlib.Path(\"train\")\n",
        "new_base_dir = pathlib.Path(\"dogs_vs_cats-small\")\n"
      ],
      "metadata": {
        "id": "4z2QG6d5xQdN"
      },
      "execution_count": 11,
      "outputs": []
    },
    {
      "cell_type": "code",
      "source": [
        "def make_subset(subset_name,start_idx,end_idx):\n",
        "    for category in (\"cat\",\"dog\"):\n",
        "       dir = new_base_dir / subset_name / category\n",
        "       os.makedirs(dir)\n",
        "       fnames = [f\"{category}.{i}.jpg\" for i in range(start_idx,end_idx)]\n",
        "       for fname in fnames : \n",
        "           shutil.copyfile(src=original_dir/fname,dst=dir/fname)\n",
        "make_subset(\"train\",0,1000)\n",
        "make_subset(\"validation\",1000,1500)\n",
        "make_subset(\"test\",1500,2500)"
      ],
      "metadata": {
        "id": "jJaNBNi5zz4U"
      },
      "execution_count": 18,
      "outputs": []
    },
    {
      "cell_type": "code",
      "source": [
        "from tensorflow import keras\n",
        "from tensorflow.keras import layers "
      ],
      "metadata": {
        "id": "qZ5ynHTU3WxZ"
      },
      "execution_count": 19,
      "outputs": []
    },
    {
      "cell_type": "code",
      "source": [
        "from tensorflow.keras.utils import image_dataset_from_directory \n",
        "train_dataset = image_dataset_from_directory(new_base_dir/\"train\",image_size=(180,180),batch_size=32)\n",
        "validation_dataset = image_dataset_from_directory(new_base_dir/\"validation\",image_size=(180,180),batch_size=32)\n",
        "test_dataset = image_dataset_from_directory(new_base_dir/\"test\",image_size=(180,180),batch_size=32)\n"
      ],
      "metadata": {
        "colab": {
          "base_uri": "https://localhost:8080/"
        },
        "id": "a6uUx_HY9bHw",
        "outputId": "87c7b4f1-0d41-443e-d50f-5ddd3da8c4ed"
      },
      "execution_count": 20,
      "outputs": [
        {
          "output_type": "stream",
          "name": "stdout",
          "text": [
            "Found 2000 files belonging to 2 classes.\n",
            "Found 1000 files belonging to 2 classes.\n",
            "Found 2000 files belonging to 2 classes.\n"
          ]
        }
      ]
    },
    {
      "cell_type": "code",
      "source": [
        "for data_batch, label_batch in train_dataset : \n",
        "   print(\"data batch\",data_batch.shape)\n",
        "   print(\"label batch\",label_batch.shape)\n",
        "   break"
      ],
      "metadata": {
        "colab": {
          "base_uri": "https://localhost:8080/"
        },
        "id": "qM8qCrpq_fEL",
        "outputId": "89df357b-fe1d-496d-f001-d48872235afc"
      },
      "execution_count": 21,
      "outputs": [
        {
          "output_type": "stream",
          "name": "stdout",
          "text": [
            "data batch (32, 180, 180, 3)\n",
            "label batch (32,)\n"
          ]
        }
      ]
    },
    {
      "cell_type": "code",
      "source": [
        "data_augmentation = keras.Sequential(\n",
        "    [\n",
        "        layers.RandomFlip(\"horizontal\"),\n",
        "        layers.RandomRotation(0.1),\n",
        "        layers.RandomZoom(0.2)\n",
        "    ]\n",
        ")"
      ],
      "metadata": {
        "id": "6bOwDI4n9cUC"
      },
      "execution_count": 22,
      "outputs": []
    },
    {
      "cell_type": "code",
      "source": [
        "inputs = keras.Input(shape=(180,180,3))\n",
        "x = data_augmentation(inputs)\n",
        "x = layers.Rescaling(1./255)(inputs)\n",
        "x = layers.Conv2D(filters=32,kernel_size=3,activation=\"relu\")(x)\n",
        "x = layers.MaxPooling2D(pool_size=2)(x)\n",
        "x = layers.Conv2D(filters=64,kernel_size=3,activation=\"relu\")(x)\n",
        "x = layers.MaxPooling2D(pool_size=2)(x)\n",
        "x = layers.Conv2D(filters=128,kernel_size=3,activation=\"relu\")(x)\n",
        "x = layers.MaxPooling2D(pool_size=2)(x)\n",
        "x = layers.Conv2D(filters=256,kernel_size=3,activation=\"relu\")(x)\n",
        "x = layers.MaxPooling2D(pool_size=2)(x)\n",
        "x = layers.Conv2D(filters=256,kernel_size=3,activation=\"relu\")(x)\n",
        "x = layers.Flatten()(x)\n",
        "x = layers.Dropout(0.5)(x)\n",
        "outputs = layers.Dense(1,activation=\"sigmoid\")(x)\n",
        "model = keras.Model(inputs=inputs,outputs=outputs)\n",
        "model.compile(loss=\"binary_crossentropy\",optimizer=\"rmsprop\",metrics=[\"accuracy\"])\n",
        "callbacks = [\n",
        "    keras.callbacks.ModelCheckpoint(\n",
        "        filepath= \"convnet_from_scratch\",\n",
        "        save_best_only=True,\n",
        "        monitor= \"val_loss\"\n",
        "    )\n",
        "]\n",
        "history = model.fit(train_dataset,epochs=100,validation_data=validation_dataset,callbacks=callbacks)"
      ],
      "metadata": {
        "colab": {
          "base_uri": "https://localhost:8080/"
        },
        "id": "v6sGNB1W_UsP",
        "outputId": "6ff9897a-8ea8-4b08-af6b-9fb7661fa962"
      },
      "execution_count": 23,
      "outputs": [
        {
          "output_type": "stream",
          "name": "stdout",
          "text": [
            "Epoch 1/100\n",
            "63/63 [==============================] - ETA: 0s - loss: 0.6955 - accuracy: 0.5085"
          ]
        },
        {
          "output_type": "stream",
          "name": "stderr",
          "text": [
            "WARNING:absl:Found untraced functions such as _jit_compiled_convolution_op, _jit_compiled_convolution_op, _jit_compiled_convolution_op, _jit_compiled_convolution_op, _jit_compiled_convolution_op while saving (showing 5 of 5). These functions will not be directly callable after loading.\n"
          ]
        },
        {
          "output_type": "stream",
          "name": "stdout",
          "text": [
            "\b\b\b\b\b\b\b\b\b\b\b\b\b\b\b\b\b\b\b\b\b\b\b\b\b\b\b\b\b\b\b\b\b\b\b\b\b\b\b\b\b\b\b\b\b\b\b\b\b\b\b\b\b\b\b\b\b\b\b\b\b\b\b\b\b\b\b\b\b\b\b\b\b\b\b\b\b\b\b\b\b\b\r63/63 [==============================] - 18s 120ms/step - loss: 0.6955 - accuracy: 0.5085 - val_loss: 0.6907 - val_accuracy: 0.5260\n",
            "Epoch 2/100\n",
            "62/63 [============================>.] - ETA: 0s - loss: 0.7140 - accuracy: 0.5534"
          ]
        },
        {
          "output_type": "stream",
          "name": "stderr",
          "text": [
            "WARNING:absl:Found untraced functions such as _jit_compiled_convolution_op, _jit_compiled_convolution_op, _jit_compiled_convolution_op, _jit_compiled_convolution_op, _jit_compiled_convolution_op while saving (showing 5 of 5). These functions will not be directly callable after loading.\n"
          ]
        },
        {
          "output_type": "stream",
          "name": "stdout",
          "text": [
            "\b\b\b\b\b\b\b\b\b\b\b\b\b\b\b\b\b\b\b\b\b\b\b\b\b\b\b\b\b\b\b\b\b\b\b\b\b\b\b\b\b\b\b\b\b\b\b\b\b\b\b\b\b\b\b\b\b\b\b\b\b\b\b\b\b\b\b\b\b\b\b\b\b\b\b\b\b\b\b\b\b\b\r63/63 [==============================] - 6s 88ms/step - loss: 0.7138 - accuracy: 0.5540 - val_loss: 0.6540 - val_accuracy: 0.5960\n",
            "Epoch 3/100\n",
            "63/63 [==============================] - 4s 64ms/step - loss: 0.6527 - accuracy: 0.6200 - val_loss: 0.6602 - val_accuracy: 0.6180\n",
            "Epoch 4/100\n",
            "63/63 [==============================] - ETA: 0s - loss: 0.6718 - accuracy: 0.6370"
          ]
        },
        {
          "output_type": "stream",
          "name": "stderr",
          "text": [
            "WARNING:absl:Found untraced functions such as _jit_compiled_convolution_op, _jit_compiled_convolution_op, _jit_compiled_convolution_op, _jit_compiled_convolution_op, _jit_compiled_convolution_op while saving (showing 5 of 5). These functions will not be directly callable after loading.\n"
          ]
        },
        {
          "output_type": "stream",
          "name": "stdout",
          "text": [
            "\b\b\b\b\b\b\b\b\b\b\b\b\b\b\b\b\b\b\b\b\b\b\b\b\b\b\b\b\b\b\b\b\b\b\b\b\b\b\b\b\b\b\b\b\b\b\b\b\b\b\b\b\b\b\b\b\b\b\b\b\b\b\b\b\b\b\b\b\b\b\b\b\b\b\b\b\b\b\b\b\b\b\r63/63 [==============================] - 6s 89ms/step - loss: 0.6718 - accuracy: 0.6370 - val_loss: 0.6430 - val_accuracy: 0.6250\n",
            "Epoch 5/100\n",
            "63/63 [==============================] - ETA: 0s - loss: 0.5918 - accuracy: 0.6820"
          ]
        },
        {
          "output_type": "stream",
          "name": "stderr",
          "text": [
            "WARNING:absl:Found untraced functions such as _jit_compiled_convolution_op, _jit_compiled_convolution_op, _jit_compiled_convolution_op, _jit_compiled_convolution_op, _jit_compiled_convolution_op while saving (showing 5 of 5). These functions will not be directly callable after loading.\n"
          ]
        },
        {
          "output_type": "stream",
          "name": "stdout",
          "text": [
            "\b\b\b\b\b\b\b\b\b\b\b\b\b\b\b\b\b\b\b\b\b\b\b\b\b\b\b\b\b\b\b\b\b\b\b\b\b\b\b\b\b\b\b\b\b\b\b\b\b\b\b\b\b\b\b\b\b\b\b\b\b\b\b\b\b\b\b\b\b\b\b\b\b\b\b\b\b\b\b\b\b\b\r63/63 [==============================] - 6s 84ms/step - loss: 0.5918 - accuracy: 0.6820 - val_loss: 0.6094 - val_accuracy: 0.6430\n",
            "Epoch 6/100\n",
            "63/63 [==============================] - 6s 85ms/step - loss: 0.5794 - accuracy: 0.6910 - val_loss: 0.6281 - val_accuracy: 0.6490\n",
            "Epoch 7/100\n",
            "62/63 [============================>.] - ETA: 0s - loss: 0.5567 - accuracy: 0.7107"
          ]
        },
        {
          "output_type": "stream",
          "name": "stderr",
          "text": [
            "WARNING:absl:Found untraced functions such as _jit_compiled_convolution_op, _jit_compiled_convolution_op, _jit_compiled_convolution_op, _jit_compiled_convolution_op, _jit_compiled_convolution_op while saving (showing 5 of 5). These functions will not be directly callable after loading.\n"
          ]
        },
        {
          "output_type": "stream",
          "name": "stdout",
          "text": [
            "\b\b\b\b\b\b\b\b\b\b\b\b\b\b\b\b\b\b\b\b\b\b\b\b\b\b\b\b\b\b\b\b\b\b\b\b\b\b\b\b\b\b\b\b\b\b\b\b\b\b\b\b\b\b\b\b\b\b\b\b\b\b\b\b\b\b\b\b\b\b\b\b\b\b\b\b\b\b\b\b\b\b\r63/63 [==============================] - 6s 83ms/step - loss: 0.5560 - accuracy: 0.7115 - val_loss: 0.5955 - val_accuracy: 0.6760\n",
            "Epoch 8/100\n",
            "62/63 [============================>.] - ETA: 0s - loss: 0.5259 - accuracy: 0.7359"
          ]
        },
        {
          "output_type": "stream",
          "name": "stderr",
          "text": [
            "WARNING:absl:Found untraced functions such as _jit_compiled_convolution_op, _jit_compiled_convolution_op, _jit_compiled_convolution_op, _jit_compiled_convolution_op, _jit_compiled_convolution_op while saving (showing 5 of 5). These functions will not be directly callable after loading.\n"
          ]
        },
        {
          "output_type": "stream",
          "name": "stdout",
          "text": [
            "\b\b\b\b\b\b\b\b\b\b\b\b\b\b\b\b\b\b\b\b\b\b\b\b\b\b\b\b\b\b\b\b\b\b\b\b\b\b\b\b\b\b\b\b\b\b\b\b\b\b\b\b\b\b\b\b\b\b\b\b\b\b\b\b\b\b\b\b\b\b\b\b\b\b\b\b\b\b\b\b\b\b\r63/63 [==============================] - 7s 111ms/step - loss: 0.5261 - accuracy: 0.7360 - val_loss: 0.5874 - val_accuracy: 0.6740\n",
            "Epoch 9/100\n",
            "63/63 [==============================] - ETA: 0s - loss: 0.5015 - accuracy: 0.7590"
          ]
        },
        {
          "output_type": "stream",
          "name": "stderr",
          "text": [
            "WARNING:absl:Found untraced functions such as _jit_compiled_convolution_op, _jit_compiled_convolution_op, _jit_compiled_convolution_op, _jit_compiled_convolution_op, _jit_compiled_convolution_op while saving (showing 5 of 5). These functions will not be directly callable after loading.\n"
          ]
        },
        {
          "output_type": "stream",
          "name": "stdout",
          "text": [
            "\b\b\b\b\b\b\b\b\b\b\b\b\b\b\b\b\b\b\b\b\b\b\b\b\b\b\b\b\b\b\b\b\b\b\b\b\b\b\b\b\b\b\b\b\b\b\b\b\b\b\b\b\b\b\b\b\b\b\b\b\b\b\b\b\b\b\b\b\b\b\b\b\b\b\b\b\b\b\b\b\b\b\r63/63 [==============================] - 5s 82ms/step - loss: 0.5015 - accuracy: 0.7590 - val_loss: 0.5474 - val_accuracy: 0.7190\n",
            "Epoch 10/100\n",
            "63/63 [==============================] - 4s 65ms/step - loss: 0.4715 - accuracy: 0.7855 - val_loss: 0.5536 - val_accuracy: 0.7340\n",
            "Epoch 11/100\n",
            "62/63 [============================>.] - ETA: 0s - loss: 0.4408 - accuracy: 0.7979"
          ]
        },
        {
          "output_type": "stream",
          "name": "stderr",
          "text": [
            "WARNING:absl:Found untraced functions such as _jit_compiled_convolution_op, _jit_compiled_convolution_op, _jit_compiled_convolution_op, _jit_compiled_convolution_op, _jit_compiled_convolution_op while saving (showing 5 of 5). These functions will not be directly callable after loading.\n"
          ]
        },
        {
          "output_type": "stream",
          "name": "stdout",
          "text": [
            "\b\b\b\b\b\b\b\b\b\b\b\b\b\b\b\b\b\b\b\b\b\b\b\b\b\b\b\b\b\b\b\b\b\b\b\b\b\b\b\b\b\b\b\b\b\b\b\b\b\b\b\b\b\b\b\b\b\b\b\b\b\b\b\b\b\b\b\b\b\b\b\b\b\b\b\b\b\b\b\b\b\b\r63/63 [==============================] - 6s 94ms/step - loss: 0.4430 - accuracy: 0.7970 - val_loss: 0.5291 - val_accuracy: 0.7440\n",
            "Epoch 12/100\n",
            "63/63 [==============================] - 4s 66ms/step - loss: 0.4034 - accuracy: 0.8295 - val_loss: 0.5735 - val_accuracy: 0.7500\n",
            "Epoch 13/100\n",
            "63/63 [==============================] - 5s 80ms/step - loss: 0.3763 - accuracy: 0.8385 - val_loss: 0.5820 - val_accuracy: 0.7200\n",
            "Epoch 14/100\n",
            "63/63 [==============================] - 4s 64ms/step - loss: 0.3211 - accuracy: 0.8675 - val_loss: 0.6290 - val_accuracy: 0.7430\n",
            "Epoch 15/100\n",
            "63/63 [==============================] - 4s 63ms/step - loss: 0.2779 - accuracy: 0.8845 - val_loss: 0.7581 - val_accuracy: 0.7520\n",
            "Epoch 16/100\n",
            "63/63 [==============================] - 6s 84ms/step - loss: 0.2322 - accuracy: 0.9100 - val_loss: 0.6517 - val_accuracy: 0.7720\n",
            "Epoch 17/100\n",
            "63/63 [==============================] - 6s 87ms/step - loss: 0.2195 - accuracy: 0.9115 - val_loss: 0.6723 - val_accuracy: 0.7440\n",
            "Epoch 18/100\n",
            "63/63 [==============================] - 4s 65ms/step - loss: 0.1728 - accuracy: 0.9405 - val_loss: 0.9676 - val_accuracy: 0.7300\n",
            "Epoch 19/100\n",
            "63/63 [==============================] - 6s 85ms/step - loss: 0.1686 - accuracy: 0.9370 - val_loss: 0.8494 - val_accuracy: 0.7650\n",
            "Epoch 20/100\n",
            "63/63 [==============================] - 4s 64ms/step - loss: 0.1334 - accuracy: 0.9450 - val_loss: 0.8409 - val_accuracy: 0.7740\n",
            "Epoch 21/100\n",
            "63/63 [==============================] - 5s 77ms/step - loss: 0.1265 - accuracy: 0.9550 - val_loss: 1.0240 - val_accuracy: 0.7300\n",
            "Epoch 22/100\n",
            "63/63 [==============================] - 5s 66ms/step - loss: 0.1001 - accuracy: 0.9645 - val_loss: 0.9054 - val_accuracy: 0.7690\n",
            "Epoch 23/100\n",
            "63/63 [==============================] - 4s 64ms/step - loss: 0.0986 - accuracy: 0.9645 - val_loss: 1.1993 - val_accuracy: 0.7300\n",
            "Epoch 24/100\n",
            "63/63 [==============================] - 5s 83ms/step - loss: 0.0919 - accuracy: 0.9650 - val_loss: 1.2920 - val_accuracy: 0.7280\n",
            "Epoch 25/100\n",
            "63/63 [==============================] - 4s 63ms/step - loss: 0.0807 - accuracy: 0.9715 - val_loss: 1.1351 - val_accuracy: 0.7590\n",
            "Epoch 26/100\n",
            "63/63 [==============================] - 4s 64ms/step - loss: 0.0655 - accuracy: 0.9760 - val_loss: 1.2436 - val_accuracy: 0.7770\n",
            "Epoch 27/100\n",
            "63/63 [==============================] - 6s 84ms/step - loss: 0.0726 - accuracy: 0.9780 - val_loss: 1.1475 - val_accuracy: 0.7890\n",
            "Epoch 28/100\n",
            "63/63 [==============================] - 4s 64ms/step - loss: 0.0610 - accuracy: 0.9785 - val_loss: 1.4592 - val_accuracy: 0.7530\n",
            "Epoch 29/100\n",
            "63/63 [==============================] - 6s 86ms/step - loss: 0.0551 - accuracy: 0.9840 - val_loss: 1.2541 - val_accuracy: 0.7520\n",
            "Epoch 30/100\n",
            "63/63 [==============================] - 4s 64ms/step - loss: 0.0713 - accuracy: 0.9780 - val_loss: 1.7428 - val_accuracy: 0.7350\n",
            "Epoch 31/100\n",
            "63/63 [==============================] - 5s 82ms/step - loss: 0.0524 - accuracy: 0.9835 - val_loss: 1.3462 - val_accuracy: 0.7510\n",
            "Epoch 32/100\n",
            "63/63 [==============================] - 6s 83ms/step - loss: 0.0475 - accuracy: 0.9860 - val_loss: 2.1821 - val_accuracy: 0.7270\n",
            "Epoch 33/100\n",
            "63/63 [==============================] - 5s 80ms/step - loss: 0.0561 - accuracy: 0.9845 - val_loss: 1.4403 - val_accuracy: 0.7700\n",
            "Epoch 34/100\n",
            "63/63 [==============================] - 4s 64ms/step - loss: 0.0608 - accuracy: 0.9790 - val_loss: 1.4610 - val_accuracy: 0.7710\n",
            "Epoch 35/100\n",
            "63/63 [==============================] - 4s 64ms/step - loss: 0.0498 - accuracy: 0.9835 - val_loss: 1.9397 - val_accuracy: 0.7240\n",
            "Epoch 36/100\n",
            "63/63 [==============================] - 5s 81ms/step - loss: 0.0374 - accuracy: 0.9900 - val_loss: 1.8523 - val_accuracy: 0.7310\n",
            "Epoch 37/100\n",
            "63/63 [==============================] - 4s 63ms/step - loss: 0.0512 - accuracy: 0.9850 - val_loss: 1.8460 - val_accuracy: 0.7610\n",
            "Epoch 38/100\n",
            "63/63 [==============================] - 4s 64ms/step - loss: 0.0535 - accuracy: 0.9845 - val_loss: 1.9058 - val_accuracy: 0.7690\n",
            "Epoch 39/100\n",
            "63/63 [==============================] - 6s 84ms/step - loss: 0.0376 - accuracy: 0.9845 - val_loss: 1.9221 - val_accuracy: 0.7460\n",
            "Epoch 40/100\n",
            "63/63 [==============================] - 4s 64ms/step - loss: 0.0536 - accuracy: 0.9860 - val_loss: 1.8409 - val_accuracy: 0.7820\n",
            "Epoch 41/100\n",
            "63/63 [==============================] - 5s 77ms/step - loss: 0.0528 - accuracy: 0.9840 - val_loss: 1.9142 - val_accuracy: 0.7640\n",
            "Epoch 42/100\n",
            "63/63 [==============================] - 5s 65ms/step - loss: 0.0816 - accuracy: 0.9800 - val_loss: 1.7345 - val_accuracy: 0.7700\n",
            "Epoch 43/100\n",
            "63/63 [==============================] - 4s 64ms/step - loss: 0.0311 - accuracy: 0.9900 - val_loss: 1.7923 - val_accuracy: 0.7820\n",
            "Epoch 44/100\n",
            "63/63 [==============================] - 6s 84ms/step - loss: 0.0381 - accuracy: 0.9880 - val_loss: 1.6800 - val_accuracy: 0.7730\n",
            "Epoch 45/100\n",
            "63/63 [==============================] - 4s 65ms/step - loss: 0.0305 - accuracy: 0.9900 - val_loss: 1.9654 - val_accuracy: 0.7790\n",
            "Epoch 46/100\n",
            "63/63 [==============================] - 6s 87ms/step - loss: 0.0439 - accuracy: 0.9860 - val_loss: 2.3846 - val_accuracy: 0.7330\n",
            "Epoch 47/100\n",
            "63/63 [==============================] - 4s 65ms/step - loss: 0.0208 - accuracy: 0.9925 - val_loss: 2.1959 - val_accuracy: 0.7550\n",
            "Epoch 48/100\n",
            "63/63 [==============================] - 4s 65ms/step - loss: 0.0551 - accuracy: 0.9845 - val_loss: 2.6702 - val_accuracy: 0.7490\n",
            "Epoch 49/100\n",
            "63/63 [==============================] - 5s 77ms/step - loss: 0.0466 - accuracy: 0.9905 - val_loss: 2.3807 - val_accuracy: 0.7500\n",
            "Epoch 50/100\n",
            "63/63 [==============================] - 4s 65ms/step - loss: 0.0660 - accuracy: 0.9845 - val_loss: 2.0258 - val_accuracy: 0.7800\n",
            "Epoch 51/100\n",
            "63/63 [==============================] - 6s 90ms/step - loss: 0.0421 - accuracy: 0.9860 - val_loss: 2.1818 - val_accuracy: 0.7610\n",
            "Epoch 52/100\n",
            "63/63 [==============================] - 4s 65ms/step - loss: 0.0454 - accuracy: 0.9840 - val_loss: 1.8437 - val_accuracy: 0.7470\n",
            "Epoch 53/100\n",
            "63/63 [==============================] - 4s 64ms/step - loss: 0.0364 - accuracy: 0.9885 - val_loss: 2.4824 - val_accuracy: 0.7480\n",
            "Epoch 54/100\n",
            "63/63 [==============================] - 5s 76ms/step - loss: 0.0395 - accuracy: 0.9900 - val_loss: 2.1114 - val_accuracy: 0.7510\n",
            "Epoch 55/100\n",
            "63/63 [==============================] - 4s 64ms/step - loss: 0.0526 - accuracy: 0.9880 - val_loss: 2.3241 - val_accuracy: 0.7410\n",
            "Epoch 56/100\n",
            "63/63 [==============================] - 5s 82ms/step - loss: 0.0203 - accuracy: 0.9930 - val_loss: 2.4926 - val_accuracy: 0.7730\n",
            "Epoch 57/100\n",
            "63/63 [==============================] - 4s 65ms/step - loss: 0.0569 - accuracy: 0.9815 - val_loss: 2.6215 - val_accuracy: 0.7730\n",
            "Epoch 58/100\n",
            "63/63 [==============================] - 4s 65ms/step - loss: 0.0568 - accuracy: 0.9850 - val_loss: 2.3691 - val_accuracy: 0.7710\n",
            "Epoch 59/100\n",
            "63/63 [==============================] - 6s 85ms/step - loss: 0.0410 - accuracy: 0.9900 - val_loss: 2.5244 - val_accuracy: 0.7600\n",
            "Epoch 60/100\n",
            "63/63 [==============================] - 4s 64ms/step - loss: 0.0368 - accuracy: 0.9905 - val_loss: 2.6634 - val_accuracy: 0.7770\n",
            "Epoch 61/100\n",
            "63/63 [==============================] - 4s 66ms/step - loss: 0.0583 - accuracy: 0.9880 - val_loss: 2.3779 - val_accuracy: 0.7700\n",
            "Epoch 62/100\n",
            "63/63 [==============================] - 5s 78ms/step - loss: 0.0351 - accuracy: 0.9935 - val_loss: 2.7077 - val_accuracy: 0.7540\n",
            "Epoch 63/100\n",
            "63/63 [==============================] - 5s 81ms/step - loss: 0.0535 - accuracy: 0.9875 - val_loss: 2.1035 - val_accuracy: 0.7430\n",
            "Epoch 64/100\n",
            "63/63 [==============================] - 5s 83ms/step - loss: 0.0495 - accuracy: 0.9875 - val_loss: 2.6484 - val_accuracy: 0.7670\n",
            "Epoch 65/100\n",
            "63/63 [==============================] - 4s 66ms/step - loss: 0.0279 - accuracy: 0.9930 - val_loss: 2.7576 - val_accuracy: 0.7610\n",
            "Epoch 66/100\n",
            "63/63 [==============================] - 5s 76ms/step - loss: 0.0625 - accuracy: 0.9885 - val_loss: 2.5685 - val_accuracy: 0.7730\n",
            "Epoch 67/100\n",
            "63/63 [==============================] - 4s 63ms/step - loss: 0.0530 - accuracy: 0.9870 - val_loss: 2.7656 - val_accuracy: 0.7540\n",
            "Epoch 68/100\n",
            "63/63 [==============================] - 5s 79ms/step - loss: 0.0441 - accuracy: 0.9885 - val_loss: 2.6776 - val_accuracy: 0.7600\n",
            "Epoch 69/100\n",
            "63/63 [==============================] - 4s 65ms/step - loss: 0.0526 - accuracy: 0.9875 - val_loss: 3.4539 - val_accuracy: 0.7560\n",
            "Epoch 70/100\n",
            "63/63 [==============================] - 4s 63ms/step - loss: 0.0377 - accuracy: 0.9930 - val_loss: 3.6163 - val_accuracy: 0.7280\n",
            "Epoch 71/100\n",
            "63/63 [==============================] - 6s 85ms/step - loss: 0.0622 - accuracy: 0.9850 - val_loss: 2.9802 - val_accuracy: 0.7760\n",
            "Epoch 72/100\n",
            "63/63 [==============================] - 4s 63ms/step - loss: 0.0246 - accuracy: 0.9935 - val_loss: 4.7967 - val_accuracy: 0.7200\n",
            "Epoch 73/100\n",
            "63/63 [==============================] - 6s 87ms/step - loss: 0.0812 - accuracy: 0.9860 - val_loss: 2.9820 - val_accuracy: 0.7700\n",
            "Epoch 74/100\n",
            "63/63 [==============================] - 4s 63ms/step - loss: 0.0679 - accuracy: 0.9860 - val_loss: 3.0181 - val_accuracy: 0.7620\n",
            "Epoch 75/100\n",
            "63/63 [==============================] - 4s 66ms/step - loss: 0.0342 - accuracy: 0.9890 - val_loss: 3.7498 - val_accuracy: 0.7340\n",
            "Epoch 76/100\n",
            "63/63 [==============================] - 5s 83ms/step - loss: 0.0333 - accuracy: 0.9910 - val_loss: 3.3668 - val_accuracy: 0.7700\n",
            "Epoch 77/100\n",
            "63/63 [==============================] - 4s 64ms/step - loss: 0.0407 - accuracy: 0.9930 - val_loss: 4.0358 - val_accuracy: 0.7610\n",
            "Epoch 78/100\n",
            "63/63 [==============================] - 4s 64ms/step - loss: 0.0773 - accuracy: 0.9885 - val_loss: 3.3227 - val_accuracy: 0.7740\n",
            "Epoch 79/100\n",
            "63/63 [==============================] - 6s 80ms/step - loss: 0.0428 - accuracy: 0.9905 - val_loss: 3.8966 - val_accuracy: 0.7550\n",
            "Epoch 80/100\n",
            "63/63 [==============================] - 5s 83ms/step - loss: 0.0886 - accuracy: 0.9875 - val_loss: 3.7027 - val_accuracy: 0.7670\n",
            "Epoch 81/100\n",
            "63/63 [==============================] - 4s 66ms/step - loss: 0.0449 - accuracy: 0.9905 - val_loss: 3.9479 - val_accuracy: 0.7620\n",
            "Epoch 82/100\n",
            "63/63 [==============================] - 5s 77ms/step - loss: 0.0712 - accuracy: 0.9900 - val_loss: 4.0230 - val_accuracy: 0.7680\n",
            "Epoch 83/100\n",
            "63/63 [==============================] - 4s 64ms/step - loss: 0.0518 - accuracy: 0.9900 - val_loss: 4.0247 - val_accuracy: 0.7570\n",
            "Epoch 84/100\n",
            "63/63 [==============================] - 5s 81ms/step - loss: 0.0536 - accuracy: 0.9900 - val_loss: 3.8652 - val_accuracy: 0.7650\n",
            "Epoch 85/100\n",
            "63/63 [==============================] - 4s 65ms/step - loss: 0.0599 - accuracy: 0.9905 - val_loss: 3.2750 - val_accuracy: 0.7740\n",
            "Epoch 86/100\n",
            "63/63 [==============================] - 4s 65ms/step - loss: 0.0478 - accuracy: 0.9905 - val_loss: 3.6120 - val_accuracy: 0.7630\n",
            "Epoch 87/100\n",
            "63/63 [==============================] - 5s 82ms/step - loss: 0.0559 - accuracy: 0.9900 - val_loss: 5.0996 - val_accuracy: 0.7540\n",
            "Epoch 88/100\n",
            "63/63 [==============================] - 4s 65ms/step - loss: 0.0847 - accuracy: 0.9870 - val_loss: 3.8932 - val_accuracy: 0.7450\n",
            "Epoch 89/100\n",
            "63/63 [==============================] - 6s 86ms/step - loss: 0.0426 - accuracy: 0.9930 - val_loss: 3.9369 - val_accuracy: 0.7700\n",
            "Epoch 90/100\n",
            "63/63 [==============================] - 4s 65ms/step - loss: 0.0373 - accuracy: 0.9920 - val_loss: 3.7193 - val_accuracy: 0.7620\n",
            "Epoch 91/100\n",
            "63/63 [==============================] - 4s 63ms/step - loss: 0.0723 - accuracy: 0.9895 - val_loss: 3.8286 - val_accuracy: 0.7660\n",
            "Epoch 92/100\n",
            "63/63 [==============================] - 6s 88ms/step - loss: 0.0773 - accuracy: 0.9900 - val_loss: 3.9711 - val_accuracy: 0.7730\n",
            "Epoch 93/100\n",
            "63/63 [==============================] - 4s 65ms/step - loss: 0.0376 - accuracy: 0.9930 - val_loss: 3.3501 - val_accuracy: 0.7580\n",
            "Epoch 94/100\n",
            "63/63 [==============================] - 6s 92ms/step - loss: 0.0498 - accuracy: 0.9900 - val_loss: 3.8495 - val_accuracy: 0.7660\n",
            "Epoch 95/100\n",
            "63/63 [==============================] - 5s 69ms/step - loss: 0.0300 - accuracy: 0.9945 - val_loss: 4.0367 - val_accuracy: 0.7750\n",
            "Epoch 96/100\n",
            "63/63 [==============================] - 8s 118ms/step - loss: 0.0509 - accuracy: 0.9925 - val_loss: 3.8934 - val_accuracy: 0.7780\n",
            "Epoch 97/100\n",
            "63/63 [==============================] - 4s 67ms/step - loss: 0.0436 - accuracy: 0.9940 - val_loss: 4.3722 - val_accuracy: 0.7780\n",
            "Epoch 98/100\n",
            "63/63 [==============================] - 5s 68ms/step - loss: 0.0580 - accuracy: 0.9890 - val_loss: 4.6044 - val_accuracy: 0.7750\n",
            "Epoch 99/100\n",
            "63/63 [==============================] - 4s 65ms/step - loss: 0.0650 - accuracy: 0.9885 - val_loss: 4.6471 - val_accuracy: 0.7640\n",
            "Epoch 100/100\n",
            "63/63 [==============================] - 5s 81ms/step - loss: 0.0267 - accuracy: 0.9935 - val_loss: 4.9784 - val_accuracy: 0.7570\n"
          ]
        }
      ]
    },
    {
      "cell_type": "code",
      "source": [
        "import matplotlib.pyplot as plt \n",
        "accuracy = history.history[\"accuracy\"]\n",
        "val_accuracy = history.history[\"val_accuracy\"]\n",
        "loss = history.history[\"loss\"]\n",
        "val_loss = history.history[\"val_loss\"]\n",
        "epochs = range(1,len(accuracy)+1)\n",
        "plt.plot(epochs,accuracy,\"bo\",label=\"Training Accuracy\")\n",
        "plt.plot(epochs,val_accuracy,\"b\",label=\"Validation Accuracy\")\n",
        "plt.title(\"Training and Validation accuracy\")\n",
        "plt.legend()\n",
        "plt.figure()\n",
        "plt.plot(epochs,loss,\"bo\",label=\"Training loss\")\n",
        "plt.plot(epochs,val_loss,\"b\",label=\"Validation loss\")\n",
        "plt.title(\"Training and Validation loss\")\n",
        "plt.legend()\n",
        "plt.show()"
      ],
      "metadata": {
        "colab": {
          "base_uri": "https://localhost:8080/",
          "height": 887
        },
        "id": "LUYNYrOnGRYu",
        "outputId": "75ec1539-cf03-4665-f19e-6372d30f94fe"
      },
      "execution_count": 24,
      "outputs": [
        {
          "output_type": "display_data",
          "data": {
            "text/plain": [
              "<Figure size 640x480 with 1 Axes>"
            ],
            "image/png": "[encoded data removed]"
          },
          "metadata": {}
        },
        {
          "output_type": "display_data",
          "data": {
            "text/plain": [
              "<Figure size 640x480 with 1 Axes>"
            ],
            "image/png": "[encoded data removed]"
          },
          "metadata": {}
        }
      ]
    },
    {
      "cell_type": "code",
      "source": [
        "test_model = keras.models.load_model(\"convnet_from_scratch\")\n",
        "test_loss,test_acc = test_model.evaluate(test_dataset)\n",
        "print(f\"Test accuracy, {test_acc:.3f}, Test loss {test_loss}\")"
      ],
      "metadata": {
        "colab": {
          "base_uri": "https://localhost:8080/"
        },
        "id": "vL4uFZHvGzDU",
        "outputId": "d1c5cdb5-80a2-4430-bead-16ccf79f2fde"
      },
      "execution_count": 25,
      "outputs": [
        {
          "output_type": "stream",
          "name": "stdout",
          "text": [
            "63/63 [==============================] - 6s 86ms/step - loss: 0.5499 - accuracy: 0.7395\n",
            "Test accuracy, 0.739, Test loss 0.5499116778373718\n"
          ]
        }
      ]
    }
  ]
}